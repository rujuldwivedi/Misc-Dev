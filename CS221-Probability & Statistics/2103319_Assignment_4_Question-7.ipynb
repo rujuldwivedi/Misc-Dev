{
  "cells": [
    {
      "cell_type": "markdown",
      "metadata": {
        "id": "FXKbV_RL9y0j"
      },
      "source": [
        "**Assignment 4**\\\n",
        "Name : Rujul Dwivedi \\\n",
        "Roll No : 2103319 \\\n",
        "Branch : Mathematics and Computing \\\n",
        "Question : 7 "
      ]
    },
    {
      "cell_type": "code",
      "execution_count": 1,
      "metadata": {
        "colab": {
          "base_uri": "https://localhost:8080/"
        },
        "id": "nLkZG-BUikr5",
        "outputId": "c305abd2-4e05-4b04-b597-991fd78e9c0d"
      },
      "outputs": [
        {
          "name": "stdout",
          "output_type": "stream",
          "text": [
            "Chebyshev's Inequality with N = 5556 \n",
            "\n",
            "P(|x' − x| ≥ 0.03) :\n",
            " 0.0\n",
            "Central Limit Theorem with N = 1067 \n",
            "\n",
            "P(|x' − x| ≥ 0.03) :\n",
            " 0.0469\n",
            "For Chebyshev's Inequality, there are more cases required but at the same time more precise answer is attained when compared to Central Limit Theorem \n"
          ]
        }
      ],
      "source": [
        "import numpy as np\n",
        "import matplotlib.pyplot as plt\n",
        "\n",
        "n = 10000\n",
        "x = 0.55\n",
        "e = 0.03\n",
        "\n",
        "\n",
        "print(\"Chebyshev's Inequality with N = 5556 \\n\")\n",
        "\n",
        "ni1 = 5556\n",
        "c1 = 0\n",
        "\n",
        "for i in range(n):\n",
        "  r1 = np.random.binomial(ni1 ,x) / ni1\n",
        "\n",
        "  if abs(r1- x) > e:\n",
        "    c1 += 1\n",
        "\n",
        "print(\"P(|x' − x| ≥ 0.03) :\\n\",c1 / n)\n",
        "\n",
        "\n",
        "print(\"Central Limit Theorem with N = 1067 \\n\")\n",
        "\n",
        "ni2 = 1067\n",
        "c2 = 0\n",
        "\n",
        "for i in range(n):\n",
        "  r2 = np.random.binomial(ni2 ,x) / ni2\n",
        "\n",
        "  if abs(r2 - x) > e:\n",
        "    c2 += 1\n",
        "\n",
        "print(\"P(|x' − x| ≥ 0.03) :\\n\",c2 / n)\n",
        "print(\"For Chebyshev's Inequality, there are more cases required but at the same time more precise answer is attained when compared to Central Limit Theorem \")\n"
      ]
    }
  ],
  "metadata": {
    "colab": {
      "provenance": []
    },
    "kernelspec": {
      "display_name": "Python 3",
      "name": "python3"
    },
    "language_info": {
      "codemirror_mode": {
        "name": "ipython",
        "version": 3
      },
      "file_extension": ".py",
      "mimetype": "text/x-python",
      "name": "python",
      "nbconvert_exporter": "python",
      "pygments_lexer": "ipython3",
      "version": "3.11.5"
    }
  },
  "nbformat": 4,
  "nbformat_minor": 0
}
