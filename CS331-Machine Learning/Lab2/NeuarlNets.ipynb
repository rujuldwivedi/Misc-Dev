{
 "cells": [
  {
   "attachments": {},
   "cell_type": "markdown",
   "metadata": {},
   "source": [
    "## TeamName - AdAnSo\n",
    "### TeamMembers - Adarsh Anand, Aniket Chaudhri, Somesh Agrawal"
   ]
  },
  {
   "attachments": {},
   "cell_type": "markdown",
   "metadata": {},
   "source": [
    "#### Implement the following operations (forward and backward pass)\n",
    "\n",
    "  (a) Matrix multiplication layer W X\n",
    "\n",
    "  (b) Bias addition layer\n",
    "\n",
    "  (c) Mean squared loss layer\n",
    "\n",
    "  (d) Soft max layer\n",
    "\n",
    "  (e) Sigmoid layer\n",
    "\n",
    "  (f) Cross entropy loss layer"
   ]
  },
  {
   "cell_type": "code",
   "execution_count": 1,
   "metadata": {},
   "outputs": [],
   "source": [
    "import numpy as np\n",
    "import matplotlib.pyplot as plt\n",
    "import sklearn\n",
    "import warnings\n",
    "warnings.filterwarnings('ignore')\n"
   ]
  },
  {
   "cell_type": "code",
   "execution_count": null,
   "metadata": {},
   "outputs": [],
   "source": [
    "class MatrixMultiply:\n",
    "    def __init__(self, W):\n",
    "        self.W = W\n",
    "\n",
    "    def forward(self, X):\n",
    "        self.X = X\n",
    "        return np.dot(X, self.W)\n",
    "\n",
    "    def backward(self, dLdY):\n",
    "        dLdX = np.dot(dLdY, self.W.T)\n",
    "        dLdW = np.dot(self.X.T, dLdY)\n",
    "        return dLdX, dLdW"
   ]
  },
  {
   "cell_type": "code",
   "execution_count": null,
   "metadata": {},
   "outputs": [],
   "source": [
    "\n",
    "class BiasAdd:\n",
    "    def __init__(self, b): \n",
    "        self.b = b \n",
    "\n",
    "    def forward(self, X):\n",
    "        self.X = X\n",
    "        return X + self.b\n",
    "\n",
    "    def backward(self, dLdY):\n",
    "        dLdB = np.sum(dLdY, axis=0)\n",
    "        dLdX = dLdY\n",
    "        return dLdX, dLdB"
   ]
  },
  {
   "cell_type": "code",
   "execution_count": null,
   "metadata": {},
   "outputs": [],
   "source": [
    "\n",
    "class MeanSquaredLoss:\n",
    "    def forward(self, Y_pred, Y_true):\n",
    "        self.Y_pred = Y_pred\n",
    "        self.Y_true = Y_true\n",
    "        return 0.5 * np.mean((Y_pred - Y_true) ** 2) \n",
    "\n",
    "    def backward(self):\n",
    "        return self.Y_pred - self.Y_true"
   ]
  },
  {
   "cell_type": "code",
   "execution_count": null,
   "metadata": {},
   "outputs": [],
   "source": [
    "\n",
    "\n",
    "class Softmax:\n",
    "    def forward(self, X):\n",
    "        self.X = X\n",
    "        exp_scores = np.exp(X)\n",
    "        return exp_scores / np.sum(exp_scores, axis=1, keepdims=True)\n",
    "\n",
    "    def backward(self, dLdY):\n",
    "        s = dLdY * self.X\n",
    "        s_ = np.sum(s, axis=1, keepdims=True)\n",
    "        return s - self.X * s_\n"
   ]
  },
  {
   "cell_type": "code",
   "execution_count": null,
   "metadata": {},
   "outputs": [],
   "source": [
    "class Sigmoid:\n",
    "    def forward(self, X):\n",
    "        self.X = X\n",
    "        return 1 / (1 + np.exp(-X))\n",
    "\n",
    "    def backward(self, dLdY):\n",
    "        s = 1 / (1 + np.exp(-self.X))\n",
    "        return dLdY * s * (1 - s)\n"
   ]
  },
  {
   "cell_type": "code",
   "execution_count": null,
   "metadata": {},
   "outputs": [],
   "source": [
    "class CrossEntropyLoss:\n",
    "    def forward(self, Y_pred, Y_true):\n",
    "        self.Y_pred = Y_pred\n",
    "        self.Y_true = Y_true\n",
    "        return -np.mean(Y_true * np.log(Y_pred))\n",
    "\n",
    "    def backward(self):\n",
    "        return self.Y_pred - self.Y_true\n"
   ]
  },
  {
   "cell_type": "code",
   "execution_count": null,
   "metadata": {},
   "outputs": [],
   "source": [
    "\n"
   ]
  }
 ],
 "metadata": {
  "kernelspec": {
   "display_name": "base",
   "language": "python",
   "name": "python3"
  },
  "language_info": {
   "codemirror_mode": {
    "name": "ipython",
    "version": 3
   },
   "file_extension": ".py",
   "mimetype": "text/x-python",
   "name": "python",
   "nbconvert_exporter": "python",
   "pygments_lexer": "ipython3",
   "version": "3.8.3"
  },
  "orig_nbformat": 4,
  "vscode": {
   "interpreter": {
    "hash": "fe65c630931b4eec66b34d941edb66c20f0df8d5f4d91ac2a55cd3291eea504a"
   }
  }
 },
 "nbformat": 4,
 "nbformat_minor": 2
}
