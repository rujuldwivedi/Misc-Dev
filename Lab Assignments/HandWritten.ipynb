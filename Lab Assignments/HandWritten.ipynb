{
  "nbformat": 4,
  "nbformat_minor": 0,
  "metadata": {
    "colab": {
      "provenance": []
    },
    "kernelspec": {
      "name": "python3",
      "display_name": "Python 3"
    }
  },
  "cells": [
    {
      "cell_type": "code",
      "metadata": {
        "id": "2g9rVs2KEQV8"
      },
      "source": [
        "import numpy as np\n",
        "import math\n",
        "import matplotlib.pyplot as plt\n",
        "from sklearn import linear_model\n",
        "from keras.datasets import mnist\n",
        "from sklearn.preprocessing import PolynomialFeatures\n",
        "from sklearn.datasets import load_digits\n"
      ],
      "execution_count": null,
      "outputs": []
    },
    {
      "cell_type": "markdown",
      "metadata": {
        "id": "Epq7X6fuEgYG"
      },
      "source": [
        "**Load the digits database**"
      ]
    },
    {
      "cell_type": "code",
      "metadata": {
        "colab": {
          "base_uri": "https://localhost:8080/",
          "height": 292
        },
        "id": "_beuVJfeEkZ_",
        "outputId": "ab0d99e8-b810-409d-8256-e6e73472464d"
      },
      "source": [
        "\n",
        "(train_X, train_y), (test_X, test_y) = mnist.load_data()\n",
        "\n",
        "y_train = train_y[ np.logical_or(train_y==1 , train_y==5)]\n",
        "x_train = train_X[ np.logical_or(train_y==1 , train_y==5)]\n",
        "x_train = x_train[500:1000]\n",
        "y_train = y_train[500:1000]\n",
        "\n",
        "plt.gray()\n",
        "plt.matshow(x_train[55])\n",
        "plt.show()\n",
        "\n"
      ],
      "execution_count": null,
      "outputs": [
        {
          "output_type": "display_data",
          "data": {
            "text/plain": [
              "<Figure size 432x288 with 0 Axes>"
            ]
          },
          "metadata": {
            "tags": []
          }
        },
        {
          "output_type": "display_data",
          "data": {
            "image/png": "[encoded data removed]",
            "text/plain": [
              "<Figure size 288x288 with 1 Axes>"
            ]
          },
          "metadata": {
            "tags": [],
            "needs_background": "light"
          }
        }
      ]
    },
    {
      "cell_type": "markdown",
      "metadata": {
        "id": "pH4XULl7EylI"
      },
      "source": [
        "Create new features for classification training"
      ]
    },
    {
      "cell_type": "code",
      "metadata": {
        "id": "a9cFverOExww"
      },
      "source": [
        "x_new = np.zeros((len(y_train),2))\n",
        "\n",
        "for i in range(len(y_train)):\n",
        "    x_curr = x_train[i]\n",
        "    intensity = np.average(x_curr)\n",
        "    x_orig = x_curr.reshape(28,28)\n",
        "    x_flip = np.fliplr(x_curr.reshape((28,28)))\n",
        "    x_flip2 = np.flipud(x_curr.reshape((28,28)))\n",
        "    symmetry = np.average(np.abs(x_orig-x_flip)+ np.abs(x_orig-x_flip2))/2\n",
        "    x_new[i][0]=intensity\n",
        "    x_new[i][1] = symmetry\n",
        "\n"
      ],
      "execution_count": null,
      "outputs": []
    },
    {
      "cell_type": "markdown",
      "metadata": {
        "id": "3p0G031uE8S1"
      },
      "source": [
        "Visualize a sample of datapoints"
      ]
    },
    {
      "cell_type": "code",
      "metadata": {
        "colab": {
          "base_uri": "https://localhost:8080/",
          "height": 265
        },
        "id": "wJmJ6oLFFBSd",
        "outputId": "f9874751-48c6-410d-a306-32c4ea476782"
      },
      "source": [
        "for i in range(len(y_train)):\n",
        "    if np.random.uniform()<0.5:\n",
        "        continue\n",
        "    if(y_train[i]==1):\n",
        "        plt.plot(x_new[i][0],x_new[i][1],'ob')\n",
        "    else:\n",
        "        plt.plot(x_new[i][0],x_new[i][1],'xr')\n",
        "\n",
        "degree = 5\n",
        "poly = PolynomialFeatures(degree,include_bias = False)\n",
        "x_train_hd = poly.fit_transform(x_new)\n",
        "\n",
        "reg = linear_model.LinearRegression()\n",
        "fitted = reg.fit(x_train_hd,y_train)\n"
      ],
      "execution_count": null,
      "outputs": [
        {
          "output_type": "display_data",
          "data": {
            "image/png": "[encoded data removed]",
            "text/plain": [
              "<Figure size 432x288 with 1 Axes>"
            ]
          },
          "metadata": {
            "tags": [],
            "needs_background": "light"
          }
        }
      ]
    },
    {
      "cell_type": "markdown",
      "metadata": {
        "id": "U2uLMifkFKcI"
      },
      "source": [
        "Train the model on the high dimensional feature space"
      ]
    },
    {
      "cell_type": "code",
      "metadata": {
        "colab": {
          "base_uri": "https://localhost:8080/",
          "height": 282
        },
        "id": "Hrx_ir4bFN13",
        "outputId": "a491c069-7ee6-4b35-ca7b-1ead29e88b19"
      },
      "source": [
        "\n",
        "h = .1  # step size in the mesh\n",
        "x_min, x_max = x_new[:, 0].min() - 1, x_new[:, 0].max() + 1\n",
        "y_min, y_max = x_new[:, 1].min() - 1, x_new[:, 1].max() + 1\n",
        "xx, yy = np.meshgrid(np.arange(x_min, x_max, h),np.arange(y_min, y_max, h))\n",
        "\n",
        "\n",
        "@np.vectorize\n",
        "def func(x,y,reg):\n",
        "    poly = PolynomialFeatures(degree,include_bias = False)\n",
        "    x_val = np.array([x,y])\n",
        "    w = reg.coef_\n",
        "    Z =  poly.fit_transform(x_val.reshape(1, -1)).dot(w) + reg.intercept_\n",
        "    return Z\n",
        "\n",
        "for i in range(len(y_train)):\n",
        "    if np.random.uniform()<0.5:\n",
        "        continue\n",
        "    if(y_train[i]==1):\n",
        "        plt.plot(x_new[i][0],x_new[i][1],'ob')\n",
        "    else:\n",
        "        plt.plot(x_new[i][0],x_new[i][1],'xr')\n",
        "\n",
        "\n",
        "Z = func(xx, yy, reg)\n",
        "plt.contour(xx, yy, Z, levels=[3],cmap=plt.cm.Paired)"
      ],
      "execution_count": null,
      "outputs": [
        {
          "output_type": "execute_result",
          "data": {
            "text/plain": [
              "<matplotlib.contour.QuadContourSet at 0x7fed9ea414d0>"
            ]
          },
          "metadata": {
            "tags": []
          },
          "execution_count": 13
        },
        {
          "output_type": "display_data",
          "data": {
            "image/png": "[encoded data removed]",
            "text/plain": [
              "<Figure size 432x288 with 1 Axes>"
            ]
          },
          "metadata": {
            "tags": [],
            "needs_background": "light"
          }
        }
      ]
    }
  ]
}