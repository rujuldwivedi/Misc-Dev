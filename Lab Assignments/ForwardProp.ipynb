{
 "cells": [
  {
   "cell_type": "code",
   "execution_count": 4,
   "metadata": {},
   "outputs": [
    {
     "name": "stdout",
     "output_type": "stream",
     "text": [
      "1\n"
     ]
    }
   ],
   "source": [
    "import numpy as np\n",
    "def sigmoid(x):\n",
    "    return 1 / (1 + np.exp(-x))\n",
    "x = np.array([200,17])\n",
    "w1_1 = np.array([1,2])\n",
    "b1_1 = np.array([-1])\n",
    "z1_1 = np.dot(w1_1,x) + b1_1\n",
    "a1_1 = sigmoid(z1_1)\n",
    "w1_2 = np.array([-3,4])\n",
    "b1_2 = np.array([1])\n",
    "z1_2 = np.dot(w1_2,x) + b1_2\n",
    "a1_2 = sigmoid(z1_2)\n",
    "w1_3 = np.array([5,-6])\n",
    "b1_3 = np.array([2])\n",
    "z1_3 = np.dot(w1_3,x) + b1_3\n",
    "a1_3 = sigmoid(z1_3)\n",
    "a1 = np.array([a1_1,a1_2,a1_3])\n",
    "w2_1 = np.array([-7,8,9])\n",
    "b2_1 = np.array([3])\n",
    "z2_1 = np.dot(w2_1,a1) + b2_1\n",
    "a2_1 = sigmoid(z2_1)\n",
    "if(a2_1 > 0.5):\n",
    "    print(1)\n",
    "else:\n",
    "    print(0)"
   ]
  },
  {
   "cell_type": "code",
   "execution_count": 5,
   "metadata": {},
   "outputs": [],
   "source": [
    "def dense(x,w,b):\n",
    "    units = w.shape[1] #units = column\n",
    "    x = np.zeros(units) #x = row\n",
    "    for i in range(units):\n",
    "        w = w[:,i] #w will be row\n",
    "        z = np.dot(w,x) + b[i]\n",
    "        x[i] = sigmoid(z)\n",
    "    return x"
   ]
  }
 ],
 "metadata": {
  "kernelspec": {
   "display_name": "Python 3",
   "language": "python",
   "name": "python3"
  },
  "language_info": {
   "codemirror_mode": {
    "name": "ipython",
    "version": 3
   },
   "file_extension": ".py",
   "mimetype": "text/x-python",
   "name": "python",
   "nbconvert_exporter": "python",
   "pygments_lexer": "ipython3",
   "version": "3.11.5"
  }
 },
 "nbformat": 4,
 "nbformat_minor": 2
}
