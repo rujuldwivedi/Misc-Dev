{
  "nbformat": 4,
  "nbformat_minor": 0,
  "metadata": {
    "colab": {
      "provenance": []
    },
    "kernelspec": {
      "name": "python3",
      "display_name": "Python 3"
    }
  },
  "cells": [
    {
      "cell_type": "markdown",
      "metadata": {
        "id": "qJKMoGUuTPGH"
      },
      "source": [
        "Why model selection makes validation estimate dirty?\n",
        "\n",
        "See this analogy\n",
        "\n",
        "Let c and d be two coins with bias 0.5 each\n"
      ]
    },
    {
      "cell_type": "code",
      "metadata": {
        "colab": {
          "base_uri": "https://localhost:8080/",
          "height": 282
        },
        "id": "Nm7724ZfTM1b",
        "outputId": "79ff3528-9183-4eb2-d9c0-2996c1cbc329"
      },
      "source": [
        "import numpy as np\n",
        "import matplotlib.pyplot as plt\n",
        "def tossOnce(p):\n",
        "  return np.random.binomial(1,p)\n",
        "\n",
        "def estimateOnce(p,trials = 1000):\n",
        "  runs = np.zeros(trials)\n",
        "  for i in range(trials):\n",
        "    runs[i]= tossOnce(p)\n",
        "  return sum(runs)/trials\n",
        "\n",
        "def estimateSeveralTimes(p, reps = 1000, trialPerRep = 1000):\n",
        "  estimateVals = np.zeros(reps)\n",
        "  for i in range(reps):\n",
        "    estimateVals[i] = estimateOnce(p,trialPerRep)\n",
        "  return estimateVals\n",
        "\n",
        "# two coins with same bias\n",
        "pc = 0.5\n",
        "pd = 0.5\n",
        "\n",
        "# let us see how estimation works on them\n",
        "cest = estimateSeveralTimes(pc)\n",
        "\n",
        "\n",
        "plt.hist(cest,bins=25)\n",
        "print(np.average(cest))\n",
        "\n",
        "\n"
      ],
      "execution_count": null,
      "outputs": [
        {
          "output_type": "stream",
          "text": [
            "0.500745\n"
          ],
          "name": "stdout"
        },
        {
          "output_type": "display_data",
          "data": {
            "image/png": "[encoded data removed]",
            "text/plain": [
              "<Figure size 432x288 with 1 Axes>"
            ]
          },
          "metadata": {
            "tags": [],
            "needs_background": "light"
          }
        }
      ]
    },
    {
      "cell_type": "markdown",
      "metadata": {
        "id": "zb24s1JFfWNa"
      },
      "source": [
        "Estimate for the other coin"
      ]
    },
    {
      "cell_type": "code",
      "metadata": {
        "colab": {
          "base_uri": "https://localhost:8080/",
          "height": 282
        },
        "id": "hdx5mGH0fZD4",
        "outputId": "e3ac1098-34ad-4386-e2d5-53378b422d01"
      },
      "source": [
        "dest = estimateSeveralTimes(pd)\n",
        "plt.hist(dest,bins=25)\n",
        "print(np.average(dest))"
      ],
      "execution_count": null,
      "outputs": [
        {
          "output_type": "stream",
          "text": [
            "0.50016\n"
          ],
          "name": "stdout"
        },
        {
          "output_type": "display_data",
          "data": {
            "image/png": "[encoded data removed]",
            "text/plain": [
              "<Figure size 432x288 with 1 Axes>"
            ]
          },
          "metadata": {
            "tags": [],
            "needs_background": "light"
          }
        }
      ]
    },
    {
      "cell_type": "markdown",
      "metadata": {
        "id": "5LTbFF_ui1Xr"
      },
      "source": [
        "Now let us simulate the validation situation by selecting **one** of the two coins based on **performance**"
      ]
    },
    {
      "cell_type": "code",
      "metadata": {
        "colab": {
          "base_uri": "https://localhost:8080/",
          "height": 282
        },
        "id": "ngEfack5i90t",
        "outputId": "8045a0df-1d0e-42fc-b145-9ee6bff6db07"
      },
      "source": [
        "def chooseBest(pc,pd,reps = 1000, trialPerRep = 1000):\n",
        "  bestCoin = np.zeros(reps)\n",
        "  for i in range(reps):\n",
        "    coinC = estimateOnce(pc, trialPerRep)\n",
        "    coinD = estimateOnce(pd, trialPerRep)\n",
        "    if coinC < coinD:\n",
        "      bestCoin[i] = coinC\n",
        "    else:\n",
        "      bestCoin[i] = coinD\n",
        "  return bestCoin\n",
        "\n",
        "valCoin = chooseBest(pc,pd)\n",
        "plt.hist(valCoin,bins=25)\n",
        "print(np.average(valCoin))"
      ],
      "execution_count": null,
      "outputs": [
        {
          "output_type": "stream",
          "text": [
            "0.490745\n"
          ],
          "name": "stdout"
        },
        {
          "output_type": "display_data",
          "data": {
            "image/png": "[encoded data removed]",
            "text/plain": [
              "<Figure size 432x288 with 1 Axes>"
            ]
          },
          "metadata": {
            "tags": [],
            "needs_background": "light"
          }
        }
      ]
    },
    {
      "cell_type": "markdown",
      "metadata": {
        "id": "EmaV9RCrl6DR"
      },
      "source": [
        "Study the role of\n",
        "1.   Reps\n",
        "2.   trialsPerRep\n"
      ]
    }
  ]
}