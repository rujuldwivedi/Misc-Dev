{
 "cells": [
  {
   "cell_type": "markdown",
   "metadata": {},
   "source": [
    "<H1>\n",
    "<center> Indian Institute of Technology, Goa <center>\n",
    "<br>\n",
    "<center> Machine learning CS331 </center>\n",
    "<br>\n",
    "<center> Course Instructor: Dr Satyanath Bhat <center>\n",
    "<br>\n",
    "<center> Lab Assignment 1 </center> \n",
    "</H1>\n",
    "<H2>\n",
    "<center> GroupID: RuAsRaDe </center>\n",
    "<br>\n",
    "<center> Group Details </center>\n",
    "</H2>\n",
    "    \n",
    "| Name             | Roll No.|\n",
    "|------------------|---------|\n",
    "| Rujul Dwivedi | 2103319 |\n",
    "| Ashish Kumar Rathore | 2103304 |\n",
    "| Rahul Saini   | 2103318 |\n",
    "| Deepak Kumar  | 2103308 |"
   ]
  },
  {
   "cell_type": "markdown",
   "metadata": {},
   "source": [
    "### Import required libraries"
   ]
  },
  {
   "cell_type": "code",
   "execution_count": 1,
   "metadata": {},
   "outputs": [],
   "source": [
    "import numpy as np # for numerical computation\n",
    "from sklearn.datasets import fetch_california_housing , load_iris, load_digits # for loading the dataset\n",
    "from sklearn.preprocessing import Normalizer # for normalizing the data\n",
    "from sklearn.model_selection import train_test_split # for splitting the data\n",
    "from tqdm import trange # for progress bar\n",
    "import matplotlib.pyplot as plt # for plotting"
   ]
  },
  {
   "cell_type": "markdown",
   "metadata": {},
   "source": [
    "## Question 1 \n",
    "\n",
    "1. a) Matrix Multiplication Layer\n",
    "2. b) Bias Addition Layer \n",
    "3. c) Mean Squared loss layer \n",
    "4. d) Softmax Activation \n",
    "5. e) Sigmoid Activation \n",
    "6. f) Cross Entropy Loss Layer \n",
    "7. Extra) Linear Activation "
   ]
  },
  {
   "cell_type": "markdown",
   "id": "82a837fb",
   "metadata": {},
   "source": [
    "**1. Matrix Multiplication Layer**"
   ]
  },
  {
   "cell_type": "code",
   "execution_count": 2,
   "id": "b5416ca6",
   "metadata": {},
   "outputs": [],
   "source": [
    "class MultiplicationLayer : # Layer 1\n",
    "    \"\"\"\n",
    "    Inputs : X ∈ R^(1xd) , W ∈ R^(dxK) # X is the input data, W is the weight matrix\n",
    "    \"\"\"\n",
    "    def __init__(self, X, W) : # This is the constructor of the class\n",
    "        self.X = X \n",
    "        self.W = W \n",
    "\n",
    "    def __str__(self,): # This is the string representation of the class\n",
    "        return \" An instance of Muliplication Layer.\"\n",
    "\n",
    "    def forward(self):  # This is the forward pass of the layer\n",
    "        self.Z = np.dot(self.X, self.W) # Z = XW\n",
    "\n",
    "    def backward(self): # This is the backward pass of the layer\n",
    "        self.dZ_dW = (self.X).T  # dZ/dW \n",
    "        self.dZ_daZ_prev = self.W  # dZ/dX "
   ]
  },
  {
   "cell_type": "markdown",
   "id": "546dc812",
   "metadata": {},
   "source": [
    "---"
   ]
  },
  {
   "cell_type": "markdown",
   "id": "92f4e110",
   "metadata": {},
   "source": [
    "**2 Bias Addition Layer**"
   ]
  },
  {
   "cell_type": "code",
   "execution_count": 3,
   "id": "c881f3a3",
   "metadata": {},
   "outputs": [],
   "source": [
    "class BiasAdditionLayer : # Layer 2\n",
    "    \"\"\"\n",
    "    Inputs : Z ∈ R^(1xK), B ∈ R^(1xK) # Z is the input data, B is the bias matrix\n",
    "    \"\"\"\n",
    "    def __init__(self, Z : np.ndarray , bias : np.ndarray ): # This is the constructor of the class\n",
    "        self.B = bias\n",
    "        self.Z = Z\n",
    "    \n",
    "    def __str__(self,): # This is the string representation of the class\n",
    "        return \"An instance of Bias Addition Layer.\"\n",
    "    \n",
    "    def forward(self,): # This is the forward pass of the layer\n",
    "        self.Z = self.Z + self.B #Z = Z + B\n",
    "    \n",
    "    def backward(self,): # This is the backward pass of the layer\n",
    "        self.dZ_dB = np.identity( self.B.shape[1] ) #dZ/dB"
   ]
  },
  {
   "cell_type": "markdown",
   "id": "e3e58058",
   "metadata": {},
   "source": [
    "---"
   ]
  },
  {
   "cell_type": "markdown",
   "id": "48ec113e",
   "metadata": {},
   "source": [
    "**3. Mean Squared Loss Layer**"
   ]
  },
  {
   "cell_type": "code",
   "execution_count": 4,
   "id": "f476834d",
   "metadata": {},
   "outputs": [],
   "source": [
    "class MeanSquaredLossLayer : # Layer 3\n",
    "    \"\"\"\n",
    "    Inputs : Y ∈ R^(1xK) , Y_hat ∈ R^(1xK) # Y is the true output, Y_hat is the predicted output\n",
    "    # aZ denotes output of previous activation layer \n",
    "    \"\"\"\n",
    "    def __init__(self, Y : np.ndarray , Y_hat : np.ndarray): # This is the constructor of the class\n",
    "        self.Y = Y \n",
    "        self.aZ = Y_hat \n",
    "    \n",
    "    def __str__(self,): # This is the string representation of the class\n",
    "        return \"An instance of Mean Squared Loss Layer\"\n",
    "    \n",
    "    def forward(self, ): # This is the forward pass of the layer\n",
    "        self.L = np.mean( ( self.aZ - self.Y)**2 ) #L = (1/n) * || Y_hat - Y||**2 \n",
    "        \n",
    "    def backward(self,): # This is the backward pass of the layer\n",
    "        self.dL_daZ = (2/len(self.Y))*(self.aZ - self.Y).T   #dL/dY_hat = (2/n)*(Y_hat - Y).T      "
   ]
  },
  {
   "cell_type": "markdown",
   "id": "74a381e7",
   "metadata": {},
   "source": [
    "---"
   ]
  },
  {
   "cell_type": "markdown",
   "id": "ca37b5d4",
   "metadata": {},
   "source": [
    "**4. Soft Max Activation**"
   ]
  },
  {
   "cell_type": "code",
   "execution_count": 5,
   "id": "ed79a1a6",
   "metadata": {},
   "outputs": [],
   "source": [
    "class SoftMaxActivation : # Layer 4\n",
    "    \"\"\"\n",
    "    Input : a numpy array Z ∈ R^(1XK)  # Z is the input data\n",
    "    \"\"\"\n",
    "    def __init__(self, Z): # This is the constructor of the class\n",
    "        self.Z = Z \n",
    "        \n",
    "    def __str__(self,): # This is the string representation of the class\n",
    "        return \"An instance of Softmax Activation Layer\"\n",
    "        \n",
    "    def forward(self,): # This is the forward pass of the layer\n",
    "        self.aZ = self.softmax(self.Z) #aZ = softmax(Z).T\n",
    "    \n",
    "    def backward(self,): # This is the backward pass of the layer\n",
    "        self.daZ_dZ = np.diag( self.aZ.reshape(-1) ) - (self.aZ.T)@( (self.aZ))  #daZ/dZ  = diag(aZ) - sZ*transpose(aZ)\n",
    "        # Shape = (K,K) where K = len( sZ )\n",
    "    \n",
    "    @staticmethod # We are making this method static as it does not depend on the object state and only on the input Z and why are we doing this? Because we can call this method without creating an instance of the class\n",
    "    def softmax(Z : np.ndarray): # This is the softmax function\n",
    "        max_Z = np.max( Z, axis=1 ,keepdims=True ) #max_Z = max(Z)\n",
    "        return (np.exp(Z - max_Z ))/np.sum( np.exp(Z - max_Z), axis=1 , keepdims=True) #softmax(Z) = exp(Z - max_Z)/sum(exp(Z - max_Z))"
   ]
  },
  {
   "cell_type": "markdown",
   "id": "569b04aa",
   "metadata": {},
   "source": [
    "---"
   ]
  },
  {
   "cell_type": "markdown",
   "id": "b8aa13ef",
   "metadata": {},
   "source": [
    "**5. Sigmoid Activation**"
   ]
  },
  {
   "cell_type": "code",
   "execution_count": 6,
   "id": "60de0c0e",
   "metadata": {},
   "outputs": [],
   "source": [
    "class SigmoidActivation : # Layer 5\n",
    "    \"\"\"\n",
    "    Input : a numpy array Z ∈ R^(Kx1) # Z is the input data\n",
    "    \"\"\"\n",
    "    \n",
    "    def __init__(self,Z ): # This is the constructor of the class\n",
    "        self.Z = Z \n",
    "    \n",
    "    def __str__(self,): # This is the string representation of the class\n",
    "        return \"An instance of Sigmoid Activation Layer\"\n",
    "    \n",
    "    def forward(self,): # This is the forward pass of the layer\n",
    "        self.aZ = self.sigmoid( self.Z )  # aZ = sigmoid( Z )\n",
    "    \n",
    "    def backward(self,): # This is the backward pass of the layer\n",
    "        diag_entries = np.multiply(self.aZ, 1-self.aZ).reshape(-1) #aZ_i*(1-aZ_i)\n",
    "        self.daZ_dZ = np.diag(diag_entries) #daZ/dZ = diag(aZ_i*(1-aZ_i))\n",
    "    \n",
    "    @staticmethod # We are making this method static as it does not depend on the object state and only on the input Z and why are we doing this? Because we can call this method without creating an instance of the class\n",
    "    def sigmoid( Z : np.ndarray ) : # This is the sigmoid function\n",
    "        return  1./(1 + np.exp(-Z) ) #sigmoid(Z) = 1/(1 + exp(-Z))"
   ]
  },
  {
   "cell_type": "markdown",
   "id": "faa07a4c",
   "metadata": {},
   "source": [
    "---"
   ]
  },
  {
   "cell_type": "code",
   "execution_count": 7,
   "metadata": {},
   "outputs": [],
   "source": [
    "# implement combination of sigmoid and softmax activation function\n",
    "class SigmoidSoftmaxActivation : # Combination of Layer 5 and Layer 4\n",
    "    def __init__(self,Z ): # This is the constructor of the class\n",
    "        self.Z = Z # Z is the input data\n",
    "    \n",
    "    def __str__(self,): # This is the string representation of the class\n",
    "        return \"An instance of Sigmoid Activation Layer\"\n",
    "    \n",
    "    def forward(self,): # This is the forward pass of the layer\n",
    "        self.aZ = self.sigmoid( self.Z )  # sigmoid calculation\n",
    "    \n",
    "    def backward(self,): # This is the backward pass of the layer\n",
    "        diag_entries = np.multiply(self.aZ, 1-self.aZ).reshape(-1)\n",
    "        self.daZ_dZ = np.diag(diag_entries) \n",
    "    \n",
    "    @staticmethod # We are making this method static as it does not depend on the object state and only on the input Z and why are we doing this? Because we can call this method without creating an instance of the class\n",
    "    def sigmoid( Z : np.ndarray ) : # This is the sigmoid function\n",
    "        return  1./(1 + np.exp(-Z) ) #sigmoid(Z) = 1/(1 + exp(-Z))"
   ]
  },
  {
   "cell_type": "markdown",
   "id": "abb583e9",
   "metadata": {},
   "source": [
    "**6. Cross Entropy Loss Layer**"
   ]
  },
  {
   "cell_type": "code",
   "execution_count": 8,
   "id": "7fd7235e",
   "metadata": {},
   "outputs": [],
   "source": [
    "class CrossEntropyLossLayer :  # Layer 6\n",
    "    \"\"\"\n",
    "    Inputs : Y ∈ R^(1xK) , Y_pred ∈ R^(1xK) # Y is the true output, Y_pred is the predicted output\n",
    "    \"\"\"    \n",
    "    def __init__(self, Y , Y_pred): # This is the constructor of the class\n",
    "        self.Y = Y\n",
    "        self.aZ = Y_pred\n",
    "        self.epsilon = 1e-40  \n",
    "        \n",
    "    \n",
    "    def __str__(self, ): # This is the string representation of the class\n",
    "        return \"An instance of Cross Entropy Loss Layer\"\n",
    "    \n",
    "    def forward(self, ): # This is the forward pass of the layer\n",
    "        self.L = - np.sum( self.Y * np.log(self.aZ+self.epsilon) ) #L = -1 * dot product of Y & log(Y_pred)\n",
    "        \n",
    "    def backward(self, ): # This is the backward pass of the layer\n",
    "        self.dL_daZ = -1*(self.Y/(self.aZ + self.epsilon)).T # dL/dY_pred ∈ R^(Kx1)"
   ]
  },
  {
   "cell_type": "markdown",
   "id": "9824e020",
   "metadata": {},
   "source": [
    "**<Extra> //For MSE//**\n",
    "**Linear Activation**"
   ]
  },
  {
   "cell_type": "code",
   "execution_count": 9,
   "id": "11d14048",
   "metadata": {},
   "outputs": [],
   "source": [
    "class LinearActivation : # Extra Layer (for MSE Loss Layer)\n",
    "    \"\"\"\n",
    "    Input : Z ∈ R^(1xn) # Z is the input data\n",
    "    \"\"\"\n",
    "    def __init__(self, Z): # This is the constructor of the class\n",
    "        self.Z = Z \n",
    "        \n",
    "    def __str__(self,): # This is the string representation of the class\n",
    "        return \"An instance of Linear Activation.\"\n",
    "    \n",
    "    def forward(self, ): # This is the forward pass of the layer\n",
    "        self.aZ = self.Z  # aZ = Z\n",
    "    \n",
    "    def backward(self,): # This is the backward pass of the layer\n",
    "        self.daZ_dZ = np.identity( self.Z.shape[1] ) #daZ/dZ = I"
   ]
  },
  {
   "cell_type": "markdown",
   "metadata": {},
   "source": [
    "## Question 2 & 3 \n",
    "\n",
    "- Question 2 :  California Housing Price Prediction \n",
    "- Question 3 :  IRIS Dataset"
   ]
  },
  {
   "cell_type": "markdown",
   "metadata": {},
   "source": [
    "**Load Data and Train Test Split**"
   ]
  },
  {
   "cell_type": "code",
   "execution_count": 10,
   "metadata": {},
   "outputs": [],
   "source": [
    "def load_data(dataset_name='california', \n",
    "             normalize_X=False, \n",
    "             normalize_y=False,\n",
    "             one_hot_encode_y = False, \n",
    "             test_size=0.2): # This function is used to load the dataset\n",
    "    if dataset_name == 'california' : \n",
    "        data = fetch_california_housing() # Load the california housing dataset\n",
    "    elif dataset_name == 'iris' : \n",
    "        data = load_iris() # Load the iris dataset\n",
    "    elif dataset_name == 'mnist':\n",
    "        data = load_digits() # Load the mnist dataset\n",
    "        data['data'] = 1*(data['data']>=8) # Binarize the mnist dataset\n",
    "\n",
    "    X = data['data'] # X is the input data which we are clipping from the data's dictionary column name 'data'\n",
    "    y = data['target'].reshape(-1,1) # y is the output data which we are clipping from the data's dictionary column name 'target'\n",
    "    \n",
    "    if normalize_X == True : # normalising the input data to make the training process faster\n",
    "        normalizer = Normalizer() # Create an instance of the normalizer\n",
    "        X  = normalizer.fit_transform(X) # Normalize the input data\n",
    "    \n",
    "    if normalize_y == True : # normalising the output data to make the training process faster\n",
    "        normalizer = Normalizer() # Create an instance of the normalizer\n",
    "        y = normalizer.fit_transform(y) # Normalize the output data\n",
    "    \n",
    "# normalising makes the training process faster and more accurate because the range of the input and output data is reduced to a smaller range\n",
    "        \n",
    "    if one_hot_encode_y == True : # one hot encode the output data to make it suitable for classification problems\n",
    "        y = np.eye(3)[y.reshape(-1)]# One hot encode the output data\n",
    "\n",
    "# one hot encoding is used to convert the output data into a binary matrix because the output data is in the form of a vector and we need to convert it into a binary matrix to make it suitable for classification problems\n",
    "\n",
    "    X_train, X_test, y_train, y_test = train_test_split(X,y,test_size=test_size) # Split the data into training and testing data according to the test size\n",
    "    return X_train, y_train, X_test, y_test # Return the training and testing data"
   ]
  },
  {
   "cell_type": "markdown",
   "metadata": {},
   "source": [
    "**Stochastic Gradient Descent ( SGD )**"
   ]
  },
  {
   "cell_type": "code",
   "execution_count": 11,
   "metadata": {},
   "outputs": [],
   "source": [
    "# stochastic gradient descent is used to train the model and it is a type of gradient descent in which instead of using the entire dataset to compute the gradient of the cost function in each iteration, it uses only a randomly chosen sample subset of the data for each iteration.\n",
    "\n",
    "def forward_pass(X_sample, Y_sample, W, B, activation='linear', loss='mean_squared'): # This function is used to perform the forward pass\n",
    "    multiply_layer = MultiplicationLayer(X_sample, W) # Create an instance of the multiplication layer\n",
    "    multiply_layer.forward() # Perform the forward pass of the multiplication layer\n",
    "\n",
    "    bias_add_layer = BiasAdditionLayer(multiply_layer.Z, B) # Create an instance of the bias addition layer\n",
    "    bias_add_layer.forward() # Perform the forward pass of the bias\n",
    "\n",
    "    if activation == 'linear' : \n",
    "        activation_layer = LinearActivation(bias_add_layer.Z) # Create an instance of the linear activation layer\n",
    "    elif activation == 'softmax': \n",
    "        activation_layer = SoftMaxActivation(bias_add_layer.Z) # Create an instance of the softmax activation layer\n",
    "\n",
    "    activation_layer.forward() # Perform the forward pass of the activation layer\n",
    "\n",
    "    if loss == 'mean_squared' :\n",
    "        loss_layer = MeanSquaredLossLayer(Y_sample, activation_layer.aZ ) # Create an instance of the mean squared loss layer\n",
    "    elif loss=='cross_entropy' : \n",
    "        loss_layer = CrossEntropyLossLayer(Y_sample, activation_layer.aZ ) # Create an instance of the cross entropy loss layer\n",
    "    \n",
    "    loss_layer.forward() # Perform the forward pass of the loss\n",
    "\n",
    "    return multiply_layer, bias_add_layer, activation_layer, loss_layer # Return the layers\n",
    "\n",
    "def backward_pass(multiply_layer, bias_add_layer, activation_layer, loss_layer):  # This function is used to perform the backward pass\n",
    "\n",
    "    loss_layer.backward() # Perform the backward pass of the loss\n",
    "    activation_layer.backward() # Perform the backward pass of the activation\n",
    "    bias_add_layer.backward() # Perform the backward pass of the bias\n",
    "    multiply_layer.backward() # Perform the backward pass of the multiplication\n",
    "\n",
    "    return loss_layer, activation_layer, bias_add_layer, multiply_layer  # Return the layers\n",
    "\n",
    "\n",
    "def StochasticGradientDescent( X_train,\n",
    "                               y_train, \n",
    "                               X_test, \n",
    "                               y_test, \n",
    "                               inp_shape = 1,\n",
    "                               out_shape = 1,  \n",
    "                               n_iterations = 10000,\n",
    "                               learning_rate = 0.01,\n",
    "                               activation = 'linear',\n",
    "                               loss = 'mean_squared',\n",
    "                               seed = 42,\n",
    "                               task='regression' \n",
    "                            ): # This function is used to perform stochastic gradient descent\n",
    "\n",
    "    np.random.seed(seed) # Set the seed for reproducibility\n",
    "\n",
    "    W_shape = ( inp_shape,  out_shape ) # W is the weight matrix\n",
    "    B_shape = ( 1, out_shape ) # B is the bias matrix\n",
    "\n",
    "    W = np.random.random(W_shape) # Initialize W\n",
    "    B  = np.random.random(B_shape) # Initialize B\n",
    "\n",
    "    iterations = trange(n_iterations ,desc=\"Training...\", ncols=100) # Create an instance of the tqdm class for the progress bar \n",
    "\n",
    "# here we are using trange instead of range because we want to display the progress bar and ncols is used to set the width of the progress bar\n",
    "# below is the implementation of stochastic gradient descent algorithm where we are updating the weights and biases in each iteration and the X, y are the input and output data respectively chosen randomly from the training data\n",
    "    for iteration, _ in enumerate(iterations) : # Iterate through the number of iterations\n",
    "        randomIndx = np.random.randint( len(X_train) ) # Generate a random index which is less than the length of the training data used to choose the indexes randomly from the training data which will be used as input and output data for the forward and backward pass\n",
    "        X_sample = X_train[randomIndx, :].reshape(1, inp_shape) # Get the input sample\n",
    "        Y_sample = y_train[randomIndx, :].reshape(1, out_shape) # Get the output sample\n",
    "\n",
    "        multiply_layer, bias_add_layer, activation_layer, loss_layer = forward_pass(X_sample, Y_sample, W, B, activation,loss) # Perform the forward pass\n",
    "\n",
    "        # aZ means output of some activation function applied on Z \n",
    "        \n",
    "        loss_layer, activation_layer, bias_add_layer, multiply_layer = backward_pass(multiply_layer, bias_add_layer, activation_layer, loss_layer) # Perform the backward pass\n",
    "        \n",
    "        dL_daZ = loss_layer.dL_daZ # dL/dY_pred\n",
    "        dL_dZ = np.dot( activation_layer.daZ_dZ, dL_daZ ) # dL/dZ\n",
    "        dL_dW = np.dot( multiply_layer.dZ_dW , dL_dZ.T) # dL/dW\n",
    "        dL_dB = np.dot( bias_add_layer.dZ_dB, dL_dZ).T # dL/dB\n",
    "\n",
    "        W -=  learning_rate*dL_dW # Update W\n",
    "        B -=  learning_rate*dL_dB # Update B\n",
    "        \n",
    "        if iteration%1000 == 0 : # Print the loss every 1000 iterations\n",
    "            iterations.set_description( \"Sample Error : %0.5f\"%loss_layer.L, refresh=True )\n",
    "    \n",
    "    # Run forward pass for train and test data and check accuracy/error\n",
    "\n",
    "# below is the implementation of the regression task where we are calculating the mean squared loss error for the training and testing data\n",
    "\n",
    "    if task =='regression': # If the task is regression, the loss layer is a mean squared loss layer\n",
    "        if isinstance(loss_layer, MeanSquaredLossLayer) : # If the loss layer is a mean squared loss layer\n",
    "            _ , _, _,  loss_layer = forward_pass( X_train, y_train , W, B, activation, loss) #_,_,_ means we are not using these values\n",
    "            print(\"Mean Squared Loss Error (Train Data)  : %0.5f\"% loss_layer.L) # Print the mean squared loss error for the training data\n",
    "                        \n",
    "            _ , _, _,  loss_layer = forward_pass( X_test, y_test , W, B, activation, loss) #_,_,_ means we are not using these values\n",
    "            print(\"Mean Squared Loss error (Test Data) : %0.5f\"%loss_layer.L) # Print the mean squared loss error for the testing data\n",
    "\n",
    "# below is the implementation of the classification task where we are calculating the accuracy of the model for the training and testing data\n",
    "    \n",
    "    if task =='classification': # If the task is classification, the loss layer is a cross entropy loss layer\n",
    "        if isinstance(loss_layer, CrossEntropyLossLayer):  # If the loss layer is a cross entropy loss layer\n",
    "            y_true = np.argmax(y_train, axis=1) # Get the true output\n",
    "            _, _, _, loss_layer = forward_pass( X_train, y_train , W, B, activation, loss) #_,_,_ means we are not using these values\n",
    "            y_pred = np.argmax( loss_layer.aZ, axis=1) # Get the predicted output\n",
    "\n",
    "            acc = 1*(y_pred == y_true) # Calculate the accuracy\n",
    "            print(\"Classification Accuracy (Training Data ): {0}/{1} = {2} %\".format(sum(acc), len(acc), sum(acc)*100/len(acc))) # {0}/{1} = {2} % means print 0/1 = 2 % \n",
    "\n",
    "# y_true is calculated by taking the maximum value of the output data and y_pred is calculated by taking the maximum value of the predicted output data\n",
    "# this is because the values are one hot encoded and so the true output is the maximum value of the output data (whic will be 1 and the others will be 0)\n",
    "\n",
    "            y_true = np.argmax(y_test,axis=1) # Get the true output\n",
    "            _, _, _, loss_layer = forward_pass( X_test, y_test , W, B, activation, loss) #_,_,_ means we are not using these values\n",
    "            y_pred = np.argmax( loss_layer.aZ, axis=1) # Get the predicted output\n",
    "\n",
    "            acc = 1*(y_pred == y_true) # Calculate the accuracy\n",
    "            print(\"Classification Accuracy (Testing Data ): {0}/{1} = {2} %\".format(sum(acc), len(acc), sum(acc)*100/len(acc))) # {0}/{1} = {2} % means print 0/1 = 2 %\n",
    "\n",
    "# isinstance() function returns True if the specified object is of the specified type, otherwise False and we are not using the values _ , _, _ because we are only interested in the loss_layer\n",
    "\n"
   ]
  },
  {
   "cell_type": "markdown",
   "id": "eff7e1a2",
   "metadata": {},
   "source": [
    "---"
   ]
  },
  {
   "cell_type": "markdown",
   "metadata": {},
   "source": [
    "### Question 2"
   ]
  },
  {
   "cell_type": "code",
   "execution_count": 12,
   "metadata": {},
   "outputs": [],
   "source": [
    "X_train, y_train, X_test, y_test  = load_data('california', normalize_X=True, test_size=0.2) # Load the california housing dataset"
   ]
  },
  {
   "cell_type": "code",
   "execution_count": 13,
   "metadata": {},
   "outputs": [
    {
     "name": "stderr",
     "output_type": "stream",
     "text": [
      "Sample Error : 0.54516: 100%|███████████████████████████████| 10000/10000 [00:01<00:00, 8007.60it/s]"
     ]
    },
    {
     "name": "stdout",
     "output_type": "stream",
     "text": [
      "Mean Squared Loss Error (Train Data)  : 1.36204\n",
      "Mean Squared Loss error (Test Data) : 1.30530\n"
     ]
    },
    {
     "name": "stderr",
     "output_type": "stream",
     "text": [
      "\n"
     ]
    }
   ],
   "source": [
    "StochasticGradientDescent(X_train, y_train, X_test, y_test, inp_shape=X_train.shape[1], out_shape=y_train.shape[1], task='regression') # Perform stochastic gradient descent"
   ]
  },
  {
   "cell_type": "code",
   "execution_count": 14,
   "metadata": {},
   "outputs": [
    {
     "data": {
      "image/png": "[encoded data removed]",
      "text/plain": [
       "<Figure size 640x480 with 1 Axes>"
      ]
     },
     "metadata": {},
     "output_type": "display_data"
    }
   ],
   "source": [
    "# Plot the original data\n",
    "plt.plot(X_train, y_train, 'o', label='Original data', markersize=10)\n",
    "plt.xlabel('X_train')\n",
    "plt.ylabel('y_train')\n",
    "plt.title('Original data')\n",
    "plt.show()\n"
   ]
  },
  {
   "cell_type": "markdown",
   "metadata": {},
   "source": [
    "### Question 3"
   ]
  },
  {
   "cell_type": "code",
   "execution_count": 15,
   "metadata": {},
   "outputs": [],
   "source": [
    "X_train, y_train, X_test, y_test = load_data('iris',normalize_X=True, one_hot_encode_y=True) # Load the iris dataset"
   ]
  },
  {
   "cell_type": "code",
   "execution_count": 16,
   "metadata": {},
   "outputs": [
    {
     "name": "stderr",
     "output_type": "stream",
     "text": [
      "Sample Error : 0.91044: 100%|█████████████████████████████████| 5000/5000 [00:00<00:00, 5730.22it/s]"
     ]
    },
    {
     "name": "stdout",
     "output_type": "stream",
     "text": [
      "Classification Accuracy (Training Data ): 84/120 = 70.0 %\n",
      "Classification Accuracy (Testing Data ): 16/30 = 53.333333333333336 %\n"
     ]
    },
    {
     "name": "stderr",
     "output_type": "stream",
     "text": [
      "\n"
     ]
    }
   ],
   "source": [
    "StochasticGradientDescent(X_train,y_train,X_test,y_test, inp_shape=X_train.shape[1], \\\n",
    "                          out_shape=y_train.shape[1], \n",
    "                          n_iterations=5000,\n",
    "                          learning_rate=0.001,\n",
    "                          activation='softmax',\n",
    "                          task='classification',\n",
    "                          loss='cross_entropy') # Perform stochastic gradient descent"
   ]
  },
  {
   "cell_type": "code",
   "execution_count": 17,
   "metadata": {},
   "outputs": [
    {
     "data": {
      "image/png": "[encoded data removed]",
      "text/plain": [
       "<Figure size 640x480 with 1 Axes>"
      ]
     },
     "metadata": {},
     "output_type": "display_data"
    }
   ],
   "source": [
    "# plot the first two features of iris dataset \n",
    "plt.scatter(X_train[:,0], X_train[:,1], c=np.argmax(y_train, axis=1))\n",
    "plt.xlabel('Feature 1')\n",
    "plt.ylabel('Feature 2')\n",
    "plt.title('Iris Dataset')\n",
    "plt.show()"
   ]
  }
 ],
 "metadata": {
  "kernelspec": {
   "display_name": "Python 3.10.9 ('cs331')",
   "language": "python",
   "name": "python3"
  },
  "language_info": {
   "codemirror_mode": {
    "name": "ipython",
    "version": 3
   },
   "file_extension": ".py",
   "mimetype": "text/x-python",
   "name": "python",
   "nbconvert_exporter": "python",
   "pygments_lexer": "ipython3",
   "version": "3.8.5"
  },
  "orig_nbformat": 4,
  "vscode": {
   "interpreter": {
    "hash": "f43d1047cbef59950c2f25d14b04d8a01f164d85880f1357fcf1ba55dd5a278d"
   }
  }
 },
 "nbformat": 4,
 "nbformat_minor": 2
}
