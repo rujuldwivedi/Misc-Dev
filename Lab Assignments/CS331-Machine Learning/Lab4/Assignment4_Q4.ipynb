{
 "cells": [
  {
   "cell_type": "markdown",
   "id": "b0628048",
   "metadata": {},
   "source": [
    "<h1>TEAM NAME: ADANSO\n",
    "\n",
    "    \n",
    "<h3>Team Members:<br><br>\n",
    "1. Adarsh Anand <br>\n",
    "2. Aniket Chaudhri <br>\n",
    "3. Somesh Agrawal"
   ]
  },
  {
   "cell_type": "code",
   "execution_count": 1,
   "id": "266802b4",
   "metadata": {},
   "outputs": [],
   "source": [
    "import numpy as np\n",
    "import pandas as pd\n",
    "import seaborn as sns\n",
    "import matplotlib.pyplot as plt\n",
    "from scipy.stats import multivariate_normal as mvn"
   ]
  },
  {
   "cell_type": "code",
   "execution_count": 2,
   "id": "fcda5e75",
   "metadata": {
    "scrolled": true
   },
   "outputs": [],
   "source": [
    "df = pd.read_csv('faithful.csv')\n",
    "df= df.drop('Unnamed: 0',axis=1)"
   ]
  },
  {
   "cell_type": "code",
   "execution_count": 3,
   "id": "70c9da0d",
   "metadata": {},
   "outputs": [],
   "source": [
    "df.columns = ['eruptions','waiting']"
   ]
  },
  {
   "cell_type": "code",
   "execution_count": 15,
   "id": "9c10a992",
   "metadata": {},
   "outputs": [
    {
     "data": {
      "text/html": [
       "<div>\n",
       "<style scoped>\n",
       "    .dataframe tbody tr th:only-of-type {\n",
       "        vertical-align: middle;\n",
       "    }\n",
       "\n",
       "    .dataframe tbody tr th {\n",
       "        vertical-align: top;\n",
       "    }\n",
       "\n",
       "    .dataframe thead th {\n",
       "        text-align: right;\n",
       "    }\n",
       "</style>\n",
       "<table border=\"1\" class=\"dataframe\">\n",
       "  <thead>\n",
       "    <tr style=\"text-align: right;\">\n",
       "      <th></th>\n",
       "      <th>eruptions</th>\n",
       "      <th>waiting</th>\n",
       "    </tr>\n",
       "  </thead>\n",
       "  <tbody>\n",
       "    <tr>\n",
       "      <th>0</th>\n",
       "      <td>3.600</td>\n",
       "      <td>79</td>\n",
       "    </tr>\n",
       "    <tr>\n",
       "      <th>1</th>\n",
       "      <td>1.800</td>\n",
       "      <td>54</td>\n",
       "    </tr>\n",
       "    <tr>\n",
       "      <th>2</th>\n",
       "      <td>3.333</td>\n",
       "      <td>74</td>\n",
       "    </tr>\n",
       "    <tr>\n",
       "      <th>3</th>\n",
       "      <td>2.283</td>\n",
       "      <td>62</td>\n",
       "    </tr>\n",
       "    <tr>\n",
       "      <th>4</th>\n",
       "      <td>4.533</td>\n",
       "      <td>85</td>\n",
       "    </tr>\n",
       "    <tr>\n",
       "      <th>...</th>\n",
       "      <td>...</td>\n",
       "      <td>...</td>\n",
       "    </tr>\n",
       "    <tr>\n",
       "      <th>267</th>\n",
       "      <td>4.117</td>\n",
       "      <td>81</td>\n",
       "    </tr>\n",
       "    <tr>\n",
       "      <th>268</th>\n",
       "      <td>2.150</td>\n",
       "      <td>46</td>\n",
       "    </tr>\n",
       "    <tr>\n",
       "      <th>269</th>\n",
       "      <td>4.417</td>\n",
       "      <td>90</td>\n",
       "    </tr>\n",
       "    <tr>\n",
       "      <th>270</th>\n",
       "      <td>1.817</td>\n",
       "      <td>46</td>\n",
       "    </tr>\n",
       "    <tr>\n",
       "      <th>271</th>\n",
       "      <td>4.467</td>\n",
       "      <td>74</td>\n",
       "    </tr>\n",
       "  </tbody>\n",
       "</table>\n",
       "<p>272 rows × 2 columns</p>\n",
       "</div>"
      ],
      "text/plain": [
       "     eruptions  waiting\n",
       "0        3.600       79\n",
       "1        1.800       54\n",
       "2        3.333       74\n",
       "3        2.283       62\n",
       "4        4.533       85\n",
       "..         ...      ...\n",
       "267      4.117       81\n",
       "268      2.150       46\n",
       "269      4.417       90\n",
       "270      1.817       46\n",
       "271      4.467       74\n",
       "\n",
       "[272 rows x 2 columns]"
      ]
     },
     "execution_count": 15,
     "metadata": {},
     "output_type": "execute_result"
    }
   ],
   "source": [
    "df"
   ]
  },
  {
   "cell_type": "code",
   "execution_count": 4,
   "id": "ae3f5320",
   "metadata": {},
   "outputs": [
    {
     "data": {
      "image/png": "[encoded data removed]",
      "text/plain": [
       "<Figure size 640x480 with 1 Axes>"
      ]
     },
     "metadata": {},
     "output_type": "display_data"
    }
   ],
   "source": [
    "plt.scatter(df[\"eruptions\"],df['waiting'], c = 'blue', marker = 'o',label = 'Displaying points on a graph'  )\n",
    "plt.show()"
   ]
  },
  {
   "cell_type": "code",
   "execution_count": 5,
   "id": "513a02b8",
   "metadata": {},
   "outputs": [],
   "source": [
    "def calculatez(mean, covariance):\n",
    "    x, y = np.mgrid[1:6:.5, 20:100:.5]\n",
    "    data = np.column_stack([x.flat, y.flat])\n",
    "    z = mvn.pdf(data,mean, covariance).reshape(x.shape)\n",
    "    return x,y,z"
   ]
  },
  {
   "cell_type": "code",
   "execution_count": 6,
   "id": "c6ab2900",
   "metadata": {},
   "outputs": [],
   "source": [
    "def Estep(X,mean,covariance,coeff):\n",
    "    K=covariance.shape[0]\n",
    "    gamma = np.zeros(shape=(X.shape[0], K))\n",
    "    for k in range(K):\n",
    "        gamma[:, k] = mvn.pdf(X, mean[k], covariance[k]) * coeff[k]\n",
    "    gamma = gamma/np.sum(gamma, axis=1, keepdims=True)\n",
    "    return gamma"
   ]
  },
  {
   "cell_type": "code",
   "execution_count": 7,
   "id": "d95479b8",
   "metadata": {},
   "outputs": [],
   "source": [
    "def Mstep(X,gamma):\n",
    "    N=X.shape[0]\n",
    "    K=gamma.shape[1]\n",
    "    pi = np.sum(gamma, axis=0)/np.sum(gamma)\n",
    "    mean = X[np.random.choice(N, size=K, replace=False), :]\n",
    "    covariance = np.zeros(shape=(K, X.shape[1], X.shape[1]), dtype=np.float)\n",
    "    for k in range(K):\n",
    "        mean[k, :] = np.sum(gamma[:, k].reshape(-1,1) * X, axis=0) / np.sum(gamma[:, k], keepdims=True)\n",
    "        covariance[k, :, :] = np.sum(gamma[:, k].reshape(-1, 1, 1) * ((X-mean[k, :]).reshape(N, X.shape[1], 1)@(X-mean[k, :]).reshape(N, 1, X.shape[1])), axis=0) /np.sum(gamma[:, k])\n",
    "    return mean, covariance, pi"
   ]
  },
  {
   "cell_type": "code",
   "execution_count": 8,
   "id": "083cd97d",
   "metadata": {},
   "outputs": [],
   "source": [
    "def logLikelihood(X,gamma,covariance,mean,pi):\n",
    "    K = mean.shape[0]\n",
    "    likelihood=0\n",
    "    for k in range(K):\n",
    "        likelihood += np.sum(gamma[:, k] * (np.log(mvn.pdf(X, mean=mean[k], cov=covariance[k])) + np.log(pi[k])))\n",
    "    return likelihood"
   ]
  },
  {
   "cell_type": "code",
   "execution_count": 13,
   "id": "a0504360",
   "metadata": {},
   "outputs": [],
   "source": [
    "def gaussianMixtureModel(df,K,delta=0.0001):\n",
    "    X=df.values\n",
    "    N, D = X.shape\n",
    "    mean = X[np.random.choice(N, size=K, replace=False), :]\n",
    "    pi = np.ones(shape=(K), dtype=np.float64)/K\n",
    "    covariance = np.zeros(shape=(K, D, D), dtype=np.float64)\n",
    "    for d in range(D):\n",
    "        covariance[:, d, d] = np.var(X[:, d])/10\n",
    "        \n",
    "    # cur_llh = np.float(1e9)\n",
    "    cur_llh = 1e9\n",
    "    prev_llh=0.0\n",
    "    iter=0\n",
    "    while(abs(cur_llh-prev_llh)>delta):\n",
    "        gamma = Estep(X, mean, covariance, pi)\n",
    "        mean, covariance, pi = Mstep(X, gamma)\n",
    "        \n",
    "        prev_llh = cur_llh\n",
    "        cur_llh = logLikelihood(X, gamma, covariance, mean, pi)\n",
    "\n",
    "        labels = np.argmax(gamma, axis=1)\n",
    "        iter=iter+1\n",
    "        plt.figure()\n",
    "        c=['blue','red','black']\n",
    "\n",
    "        plt.scatter(df['eruptions'], df['waiting'],c=gamma[:,1],cmap='cool')\n",
    "        for i in range(0,K):\n",
    "            x,y,z=calculatez(mean[i],covariance[i])\n",
    "            plt.contour(x, y, z,colors=c[i])\n",
    "        plt.show()\n",
    "\n",
    "\n",
    "    return mean, covariance, pi, gamma, labels"
   ]
  },
  {
   "cell_type": "code",
   "execution_count": 14,
   "id": "b4c0b4b4",
   "metadata": {},
   "outputs": [
    {
     "ename": "AttributeError",
     "evalue": "module 'numpy' has no attribute 'float'",
     "output_type": "error",
     "traceback": [
      "\u001b[0;31m---------------------------------------------------------------------------\u001b[0m",
      "\u001b[0;31mAttributeError\u001b[0m                            Traceback (most recent call last)",
      "Cell \u001b[0;32mIn[14], line 1\u001b[0m\n\u001b[0;32m----> 1\u001b[0m mean, covariance, pi, gamma, labels\u001b[39m=\u001b[39mgaussianMixtureModel(df,\u001b[39m2\u001b[39;49m)\n",
      "Cell \u001b[0;32mIn[13], line 16\u001b[0m, in \u001b[0;36mgaussianMixtureModel\u001b[0;34m(df, K, delta)\u001b[0m\n\u001b[1;32m     14\u001b[0m \u001b[39mwhile\u001b[39;00m(\u001b[39mabs\u001b[39m(cur_llh\u001b[39m-\u001b[39mprev_llh)\u001b[39m>\u001b[39mdelta):\n\u001b[1;32m     15\u001b[0m     gamma \u001b[39m=\u001b[39m Estep(X, mean, covariance, pi)\n\u001b[0;32m---> 16\u001b[0m     mean, covariance, pi \u001b[39m=\u001b[39m Mstep(X, gamma)\n\u001b[1;32m     18\u001b[0m     prev_llh \u001b[39m=\u001b[39m cur_llh\n\u001b[1;32m     19\u001b[0m     cur_llh \u001b[39m=\u001b[39m logLikelihood(X, gamma, covariance, mean, pi)\n",
      "Cell \u001b[0;32mIn[7], line 6\u001b[0m, in \u001b[0;36mMstep\u001b[0;34m(X, gamma)\u001b[0m\n\u001b[1;32m      4\u001b[0m pi \u001b[39m=\u001b[39m np\u001b[39m.\u001b[39msum(gamma, axis\u001b[39m=\u001b[39m\u001b[39m0\u001b[39m)\u001b[39m/\u001b[39mnp\u001b[39m.\u001b[39msum(gamma)\n\u001b[1;32m      5\u001b[0m mean \u001b[39m=\u001b[39m X[np\u001b[39m.\u001b[39mrandom\u001b[39m.\u001b[39mchoice(N, size\u001b[39m=\u001b[39mK, replace\u001b[39m=\u001b[39m\u001b[39mFalse\u001b[39;00m), :]\n\u001b[0;32m----> 6\u001b[0m covariance \u001b[39m=\u001b[39m np\u001b[39m.\u001b[39mzeros(shape\u001b[39m=\u001b[39m(K, X\u001b[39m.\u001b[39mshape[\u001b[39m1\u001b[39m], X\u001b[39m.\u001b[39mshape[\u001b[39m1\u001b[39m]), dtype\u001b[39m=\u001b[39mnp\u001b[39m.\u001b[39;49mfloat)\n\u001b[1;32m      7\u001b[0m \u001b[39mfor\u001b[39;00m k \u001b[39min\u001b[39;00m \u001b[39mrange\u001b[39m(K):\n\u001b[1;32m      8\u001b[0m     mean[k, :] \u001b[39m=\u001b[39m np\u001b[39m.\u001b[39msum(gamma[:, k]\u001b[39m.\u001b[39mreshape(\u001b[39m-\u001b[39m\u001b[39m1\u001b[39m,\u001b[39m1\u001b[39m) \u001b[39m*\u001b[39m X, axis\u001b[39m=\u001b[39m\u001b[39m0\u001b[39m) \u001b[39m/\u001b[39m np\u001b[39m.\u001b[39msum(gamma[:, k], keepdims\u001b[39m=\u001b[39m\u001b[39mTrue\u001b[39;00m)\n",
      "File \u001b[0;32m~/.local/lib/python3.10/site-packages/numpy/__init__.py:284\u001b[0m, in \u001b[0;36m__getattr__\u001b[0;34m(attr)\u001b[0m\n\u001b[1;32m    281\u001b[0m     \u001b[39mfrom\u001b[39;00m \u001b[39m.\u001b[39;00m\u001b[39mtesting\u001b[39;00m \u001b[39mimport\u001b[39;00m Tester\n\u001b[1;32m    282\u001b[0m     \u001b[39mreturn\u001b[39;00m Tester\n\u001b[0;32m--> 284\u001b[0m \u001b[39mraise\u001b[39;00m \u001b[39mAttributeError\u001b[39;00m(\u001b[39m\"\u001b[39m\u001b[39mmodule \u001b[39m\u001b[39m{!r}\u001b[39;00m\u001b[39m has no attribute \u001b[39m\u001b[39m\"\u001b[39m\n\u001b[1;32m    285\u001b[0m                      \u001b[39m\"\u001b[39m\u001b[39m{!r}\u001b[39;00m\u001b[39m\"\u001b[39m\u001b[39m.\u001b[39mformat(\u001b[39m__name__\u001b[39m, attr))\n",
      "\u001b[0;31mAttributeError\u001b[0m: module 'numpy' has no attribute 'float'"
     ]
    }
   ],
   "source": [
    "mean, covariance, pi, gamma, labels=gaussianMixtureModel(df,2)"
   ]
  },
  {
   "cell_type": "code",
   "execution_count": null,
   "id": "c3f8b5cc",
   "metadata": {},
   "outputs": [],
   "source": []
  }
 ],
 "metadata": {
  "kernelspec": {
   "display_name": "Python 3.10.9 ('cs331')",
   "language": "python",
   "name": "python3"
  },
  "language_info": {
   "codemirror_mode": {
    "name": "ipython",
    "version": 3
   },
   "file_extension": ".py",
   "mimetype": "text/x-python",
   "name": "python",
   "nbconvert_exporter": "python",
   "pygments_lexer": "ipython3",
   "version": "3.10.9"
  },
  "vscode": {
   "interpreter": {
    "hash": "f43d1047cbef59950c2f25d14b04d8a01f164d85880f1357fcf1ba55dd5a278d"
   }
  }
 },
 "nbformat": 4,
 "nbformat_minor": 5
}
