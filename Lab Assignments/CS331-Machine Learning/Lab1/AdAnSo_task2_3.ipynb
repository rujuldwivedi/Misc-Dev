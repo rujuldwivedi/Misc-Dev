{
 "cells": [
  {
   "cell_type": "markdown",
   "metadata": {},
   "source": [
    "## GroupID: AdAnSo\n",
    "\n",
    "Members:\n",
    "1. Adarsh Anand (2003101)\n",
    "2. Aniket Chaudhri (2003104)\n",
    "3. Somesh Agrawal (2003326)\n"
   ]
  },
  {
   "cell_type": "code",
   "execution_count": 4,
   "metadata": {},
   "outputs": [],
   "source": [
    "# read A and B matrices from matrix1.txt and matrix2.txt\n",
    "# and write the result of A*B to matrix3.txt\n",
    "\n",
    "import numpy as np\n",
    "import time\n",
    "\n",
    "# read A and B matrices from matrix1.txt and matrix2.txt\n",
    "A = np.loadtxt('matrix1.txt')\n",
    "B = np.loadtxt('matrix2.txt')"
   ]
  },
  {
   "cell_type": "code",
   "execution_count": 2,
   "metadata": {},
   "outputs": [],
   "source": [
    "# python function to multiply matrices\n",
    "\n",
    "def matrixmul(A, B):\n",
    "    C = [[0 for i in range(len(B[0]))] for j in range(len(A))]\n",
    "    for i in range(len(A)):\n",
    "        for j in range(len(B[0])):\n",
    "            for k in range(len(B)):\n",
    "                C[i][j] += A[i][k] * B[k][j]\n",
    "    return C\n"
   ]
  },
  {
   "cell_type": "code",
   "execution_count": 3,
   "metadata": {},
   "outputs": [],
   "source": [
    "import numpy as np\n",
    "\n",
    "# numpy multiplication of 2 matrices\n",
    "\n",
    "def numpymatrixmul(A, B):\n",
    "    C = np.dot(A, B)\n",
    "    return C\n"
   ]
  },
  {
   "cell_type": "code",
   "execution_count": 5,
   "metadata": {},
   "outputs": [
    {
     "name": "stdout",
     "output_type": "stream",
     "text": [
      "Time taken:  112.16420698165894 seconds\n"
     ]
    }
   ],
   "source": [
    "starttime = time.time()\n",
    "matrixmul(A, B)\n",
    "endtime = time.time() - starttime\n",
    "print('Time taken: ', endtime, 'seconds')"
   ]
  },
  {
   "cell_type": "code",
   "execution_count": 6,
   "metadata": {},
   "outputs": [
    {
     "name": "stdout",
     "output_type": "stream",
     "text": [
      "Time taken:  0.00982975959777832 seconds\n"
     ]
    }
   ],
   "source": [
    "starttime = time.time()\n",
    "numpymatrixmul(A, B)\n",
    "endtime = time.time() - starttime\n",
    "print('Time taken: ', endtime, 'seconds')\n"
   ]
  }
 ],
 "metadata": {
  "kernelspec": {
   "display_name": "Python 3.10.9 ('cs331')",
   "language": "python",
   "name": "python3"
  },
  "language_info": {
   "codemirror_mode": {
    "name": "ipython",
    "version": 3
   },
   "file_extension": ".py",
   "mimetype": "text/x-python",
   "name": "python",
   "nbconvert_exporter": "python",
   "pygments_lexer": "ipython3",
   "version": "3.10.9"
  },
  "orig_nbformat": 4,
  "vscode": {
   "interpreter": {
    "hash": "f43d1047cbef59950c2f25d14b04d8a01f164d85880f1357fcf1ba55dd5a278d"
   }
  }
 },
 "nbformat": 4,
 "nbformat_minor": 2
}
